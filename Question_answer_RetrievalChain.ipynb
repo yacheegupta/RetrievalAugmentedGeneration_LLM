{
 "cells": [
  {
   "cell_type": "markdown",
   "metadata": {},
   "source": [
    "#### Question answering from documents using LLM"
   ]
  },
  {
   "cell_type": "code",
   "execution_count": 1,
   "metadata": {},
   "outputs": [],
   "source": [
    "import os\n",
    "GOOGLE_API_KEY = os.environ[\"GOOGLE_API_KEY\"]"
   ]
  },
  {
   "cell_type": "code",
   "execution_count": 2,
   "metadata": {},
   "outputs": [],
   "source": [
    "from langchain.embeddings import GooglePalmEmbeddings\n",
    "embedding = GooglePalmEmbeddings(google_api_key=GOOGLE_API_KEY)"
   ]
  },
  {
   "cell_type": "code",
   "execution_count": 3,
   "metadata": {},
   "outputs": [],
   "source": [
    "from langchain.vectorstores import Chroma\n",
    "persist_directory = \"./vector_database/chroma/\""
   ]
  },
  {
   "cell_type": "code",
   "execution_count": 4,
   "metadata": {},
   "outputs": [],
   "source": [
    "vectordb = Chroma(persist_directory=persist_directory, embedding_function=embedding)"
   ]
  },
  {
   "cell_type": "code",
   "execution_count": 5,
   "metadata": {},
   "outputs": [
    {
     "name": "stdout",
     "output_type": "stream",
     "text": [
      "209\n"
     ]
    }
   ],
   "source": [
    "print(vectordb._collection.count())"
   ]
  },
  {
   "cell_type": "code",
   "execution_count": 6,
   "metadata": {},
   "outputs": [
    {
     "data": {
      "text/plain": [
       "3"
      ]
     },
     "execution_count": 6,
     "metadata": {},
     "output_type": "execute_result"
    }
   ],
   "source": [
    "question = \"What are major topics for this class?\"\n",
    "docs = vectordb.similarity_search(question,k=3)\n",
    "len(docs)"
   ]
  },
  {
   "cell_type": "code",
   "execution_count": 7,
   "metadata": {},
   "outputs": [],
   "source": [
    "from langchain.chat_models import ChatGooglePalm\n",
    "llm = ChatGooglePalm(temperature=0, google_api_key=GOOGLE_API_KEY)"
   ]
  },
  {
   "cell_type": "markdown",
   "metadata": {},
   "source": [
    "#### RetrievalQA chain"
   ]
  },
  {
   "cell_type": "code",
   "execution_count": 8,
   "metadata": {},
   "outputs": [],
   "source": [
    "from langchain.chains import RetrievalQA"
   ]
  },
  {
   "cell_type": "code",
   "execution_count": 9,
   "metadata": {},
   "outputs": [],
   "source": [
    "qa_chain = RetrievalQA.from_chain_type(llm, retriever=vectordb.as_retriever())"
   ]
  },
  {
   "cell_type": "code",
   "execution_count": 10,
   "metadata": {},
   "outputs": [],
   "source": [
    "result = qa_chain({\"query\": question})"
   ]
  },
  {
   "cell_type": "code",
   "execution_count": 11,
   "metadata": {},
   "outputs": [
    {
     "data": {
      "text/plain": [
       "{'query': 'What are major topics for this class?',\n",
       " 'result': 'The major topics for this class are:\\n\\n* Supervised learning: This is the type of machine learning where you have a set of data with labeled outputs, and you train a model to predict the output for new data.\\n* Unsupervised learning: This is the type of machine learning where you have a set of data without labeled outputs, and you train a model to find patterns in the data.\\n* Reinforcement learning: This is the type of machine learning where an agent learns to take actions in an environment in order to maximize a reward.\\n* Natural language processing: This is the field of computer science that deals with the interaction between computers and human (natural) languages.\\n* Computer vision: This is the field of computer science that deals with the extraction of meaningful information from digital images or videos.\\n* Speech recognition: This is the field of computer science that deals with the automatic recognition of human speech.\\n* Robotics: This is the field of engineering that deals with the design, construction, operation, and application of robots.\\n* Data mining: This is the process of extracting patterns from large data sets.\\n* Data visualization: This is the process of representing data in a way that makes it easy to understand.\\n* Machine learning algorithms: This is the study of algorithms that can learn from data.\\n* Machine learning applications: This is the study of how machine learning can be used to solve real-world problems.\\n\\nThese are just some of the major topics that will be covered in this class. There are many other topics that could be covered, but these are some of the most important ones.'}"
      ]
     },
     "execution_count": 11,
     "metadata": {},
     "output_type": "execute_result"
    }
   ],
   "source": [
    "result"
   ]
  },
  {
   "cell_type": "markdown",
   "metadata": {},
   "source": [
    "#### Building Prompt\n",
    "- Prompt takes (a) document as context and (b) question, and passes to a language model"
   ]
  },
  {
   "cell_type": "code",
   "execution_count": 12,
   "metadata": {},
   "outputs": [],
   "source": [
    "from langchain.prompts import PromptTemplate"
   ]
  },
  {
   "cell_type": "code",
   "execution_count": 13,
   "metadata": {},
   "outputs": [],
   "source": [
    "# Build prompt\n",
    "template = \"\"\"Use the following pieces of context to answer the question at the end. If you don't know the answer, just say that you don't know, don't try to make up an answer. Use three sentences maximum. Keep the answer as concise as possible. Always say \"thanks for asking!\" at the end of the answer. \n",
    "{context}\n",
    "Question: {question}\n",
    "Helpful Answer:\"\"\"\n",
    "QA_CHAIN_PROMPT = PromptTemplate.from_template(template)"
   ]
  },
  {
   "cell_type": "code",
   "execution_count": 14,
   "metadata": {},
   "outputs": [],
   "source": [
    "# Run chain\n",
    "qa_chain = RetrievalQA.from_chain_type(\n",
    "    llm,\n",
    "    retriever=vectordb.as_retriever(),\n",
    "    return_source_documents=True,\n",
    "    chain_type_kwargs={\"prompt\": QA_CHAIN_PROMPT}\n",
    ")"
   ]
  },
  {
   "cell_type": "code",
   "execution_count": 15,
   "metadata": {},
   "outputs": [],
   "source": [
    "# new question\n",
    "question = \"Is probability a class topic?\""
   ]
  },
  {
   "cell_type": "code",
   "execution_count": 16,
   "metadata": {},
   "outputs": [],
   "source": [
    "result = qa_chain({\"query\":question})"
   ]
  },
  {
   "cell_type": "code",
   "execution_count": 17,
   "metadata": {},
   "outputs": [
    {
     "data": {
      "text/plain": [
       "dict_keys(['query', 'result', 'source_documents'])"
      ]
     },
     "execution_count": 17,
     "metadata": {},
     "output_type": "execute_result"
    }
   ],
   "source": [
    "result.keys()"
   ]
  },
  {
   "cell_type": "code",
   "execution_count": 18,
   "metadata": {},
   "outputs": [
    {
     "data": {
      "text/plain": [
       "'Yes, probability is a class topic. In the first lecture, the instructor mentions that they will be covering topics such as \"probability distributions, Bayes\\' theorem, and hypothesis testing.\" These are all important concepts in probability theory, and they will be essential for understanding the material in the rest of the class.\\n\\nProbability is a branch of mathematics that deals with the likelihood of events occurring. It is used in a wide variety of fields, including statistics, machine learning, and finance. Probability theory is a powerful tool that can be used to make predictions about the future, and it is an essential part of many scientific and engineering disciplines.\\n\\nIf you are interested in learning more about probability, there are many resources available online and in libraries. You can also find many helpful tutorials and videos on YouTube.'"
      ]
     },
     "execution_count": 18,
     "metadata": {},
     "output_type": "execute_result"
    }
   ],
   "source": [
    "result[\"result\"]"
   ]
  },
  {
   "cell_type": "code",
   "execution_count": 19,
   "metadata": {},
   "outputs": [
    {
     "data": {
      "text/plain": [
       "Document(page_content=\"person's face physically attractive. There's a learning algorithm on op tical illusions, and \\nso on.  \\nAnd it goes on, so lots of fun projects. A nd take a look, then come up with your own \\nideas. But whatever you find cool and interest ing, I hope you'll be able to make machine \\nlearning a project out of it. Yeah, question?  \\nStudent : Are these gro up projects?  \\nInstructor (Andrew Ng): Oh, yes, thank you.  \\nStudent : So how many people can be in a group?  \\nInstructor (Andrew Ng): Right. So projects can be done in  groups of up to three people. \\nSo as part of forming study groups, later t oday as you get to know your classmates, I \\ndefinitely also encourage you to grab two ot her people and form a group of up to three \\npeople for your project, okay? And just start brainstorming ideas for now amongst \\nyourselves. You can also come and talk to me or the TAs if you want to brainstorm ideas \\nwith us.  \\nOkay. So one more organizational ques tion. I'm curious, how many of you know \\nMATLAB? Wow, cool, quite a lot. Okay. So as part of the — act ually how many of you \\nknow Octave or have used Octave ? Oh, okay, much smaller number.  \\nSo as part of this class, especially in the homeworks, we'll ask you to implement a few \\nprograms, a few machine learning algorithms as  part of the homeworks. And most of\", metadata={'page': 7, 'source': './docs/MachineLearning-Lecture01.pdf'})"
      ]
     },
     "execution_count": 19,
     "metadata": {},
     "output_type": "execute_result"
    }
   ],
   "source": [
    "result[\"source_documents\"][0]"
   ]
  },
  {
   "cell_type": "markdown",
   "metadata": {},
   "source": [
    "#### If we have too many documents, they all may not be able to fit in the context window."
   ]
  },
  {
   "cell_type": "markdown",
   "metadata": {},
   "source": [
    "#### RetrievalQA chain types: the default technique is stuff technique, chain_type=\"stuff\"\n",
    "#### Map Reduce technique\n",
    "- In this technique, each of the individual documents is first sent to the language model by itself to obtain an original answer. These individual answers are then composed into a final answer with a final call to the language model. This process involves many more calls to the language model."
   ]
  },
  {
   "cell_type": "code",
   "execution_count": 20,
   "metadata": {},
   "outputs": [],
   "source": [
    "qa_chain_mr = RetrievalQA.from_chain_type(\n",
    "    llm,\n",
    "    retriever=vectordb.as_retriever(),\n",
    "    chain_type=\"map_reduce\"\n",
    ")"
   ]
  },
  {
   "cell_type": "code",
   "execution_count": 21,
   "metadata": {},
   "outputs": [
    {
     "name": "stderr",
     "output_type": "stream",
     "text": [
      "Token indices sequence length is longer than the specified maximum sequence length for this model (1420 > 1024). Running this sequence through the model will result in indexing errors\n"
     ]
    }
   ],
   "source": [
    "result = qa_chain_mr({\"query\": question})"
   ]
  },
  {
   "cell_type": "code",
   "execution_count": 22,
   "metadata": {},
   "outputs": [
    {
     "data": {
      "text/plain": [
       "\"Yes, probability is a class topic. It is a branch of mathematics that deals with the likelihood of events occurring. Probability is used in many different fields, including statistics, machine learning, and finance.\\n\\nIn this class, we will learn about the basic concepts of probability, such as probability distributions, random variables, and conditional probability. We will also learn about some of the more advanced topics in probability, such as Bayes' theorem and Markov chains.\\n\\nProbability is a very important topic, and it is used in many different areas of our lives. By understanding probability, we can make better decisions and understand the world around us better.\\n\\nHere are some examples of how probability is used in the real world:\\n\\n* In statistics, probability is used to estimate the likelihood of events occurring. For example, a statistician might use probability to estimate the likelihood of a certain candidate winning an election.\\n* In machine learning, probability is used to train algorithms to make predictions. For example, a machine learning algorithm might be trained to predict whether a customer will churn.\\n* In finance, probability is used to assess risk. For example, a financial analyst might use probability to assess the risk of a company going bankrupt.\\n\\nProbability is a very important topic, and it is used in many different areas of our lives. By understanding probability, we can make better decisions and understand the world around us better.\""
      ]
     },
     "execution_count": 22,
     "metadata": {},
     "output_type": "execute_result"
    }
   ],
   "source": [
    "result[\"result\"]"
   ]
  },
  {
   "cell_type": "markdown",
   "metadata": {},
   "source": [
    "#### Refine technique\n",
    "- the refined chain combines information sequentially, and encourages more carrying over of information than the MapReduce chain."
   ]
  },
  {
   "cell_type": "code",
   "execution_count": 23,
   "metadata": {},
   "outputs": [
    {
     "data": {
      "text/plain": [
       "'Based on the new context, it is clear that probability is a class topic. The instructor mentions that \"we\\'ll ask you to implement a few programs, a few machine learning algorithms as part of the homeworks. And most of them will involve probability.\" This suggests that probability is an important topic in the class and that students will be expected to have a strong understanding of it in order to succeed.\\n\\nProbability is the study of chance. It is used in many different fields, including statistics, gambling, and machine learning. In machine learning, probability is used to estimate the likelihood of an event occurring. This information can then be used to make predictions or decisions.\\n\\nThere are many different ways to calculate probability. One common method is to use a probability distribution. A probability distribution is a mathematical function that describes the probability of a variable taking on different values. For example, the probability distribution of a coin toss is a function that gives the probability of getting heads or tails.\\n\\nAnother common method for calculating probability is to use Bayes\\' theorem. Bayes\\' theorem is a mathematical formula that is used to update the probability of an event occurring based on new information. For example, if you know that the probability of getting heads on a coin toss is 0.5, and you then flip the coin and get heads, you can use Bayes\\' theorem to update the probability of getting heads on the next toss.\\n\\nProbability is a complex and important topic. It is used in many different fields, including statistics, gambling, and machine learning. In machine learning, probability is used to estimate the likelihood of an event occurring. This information can then be used to make predictions or decisions.\\n\\nIn the context of the class, probability will be used to implement machine learning algorithms. Machine learning algorithms are used to make predictions or decisions based on data. Probability is used to estimate the likelihood of an event occurring, which is then used to make the prediction or decision.\\n\\nFor example, a machine learning algorithm might be used to predict whether a customer will churn. Churn is when a customer stops using a product or service. The machine learning algorithm would be trained on data from past customers, such as their age, gender, and purchase history. The algorithm would then use this data to estimate the likelihood of a customer churning. This information could then be used to make decisions about how to prevent customers from churning.\\n\\nProbability is a powerful tool that can be used to make predictions or decisions. In the context of the class, probability will be used to implement machine learning algorithms. Machine learning algorithms are used to make predictions or decisions based on data. Probability is used to estimate the likelihood of an event occurring, which is then used to make the prediction or decision.\\n\\nThe instructor also mentions that the class will use Octave for the last problem set. Octave is a programming language that is similar to MATLAB. It is used for scientific computing and data analysis. The instructor recommends that students learn MATLAB, as it is a more widely used language.\\n\\nThe instructor also mentions that the term project can be done in groups of three, two, or individually. The grading is the same regardless of the group size. The instructor recommends that students work in groups of three, as this will allow them to share the workload and get feedback from each other.\\n\\nOverall, the new context provides additional information about the class and the instructor\\'s expectations. This information can be helpful for students who are planning to take the class.\\n\\nIn addition to the information provided in the original answer, the new context provides information about the instructor\\'s teaching style and expectations. The instructor is clearly a strong advocate for learning by doing, and he encourages students to use Octave for the last problem set. This suggests that the instructor is a hands-on learner who values practical experience. The instructor also recommends that students work in groups of three for the term project. This suggests that the instructor believes that collaboration is an important part of the learning process.\\n\\nThe new context also provides information about the course content. The instructor mentions that the class will cover topics such as convex optimization and hidden Markov models. This suggests that the course will be challenging and require a strong foundation in mathematics.\\n\\nOverall, the new context provides valuable information about the course and the instructor. This information can be helpful for students who are considering taking the course.'"
      ]
     },
     "execution_count": 23,
     "metadata": {},
     "output_type": "execute_result"
    }
   ],
   "source": [
    "qa_chain_re = RetrievalQA.from_chain_type(\n",
    "    llm,\n",
    "    retriever=vectordb.as_retriever(),\n",
    "    chain_type=\"refine\"\n",
    ")\n",
    "result = qa_chain_re({\"query\": question})\n",
    "result[\"result\"]"
   ]
  },
  {
   "cell_type": "markdown",
   "metadata": {},
   "source": [
    "#### follow up question"
   ]
  },
  {
   "cell_type": "code",
   "execution_count": 24,
   "metadata": {},
   "outputs": [],
   "source": [
    "qa_chain = RetrievalQA.from_chain_type(\n",
    "    llm,\n",
    "    retriever=vectordb.as_retriever()\n",
    ")"
   ]
  },
  {
   "cell_type": "code",
   "execution_count": 25,
   "metadata": {},
   "outputs": [
    {
     "data": {
      "text/plain": [
       "\"Yes, probability is a class topic. In fact, it is one of the most important topics in machine learning. Probability is used to model uncertainty, which is a key concept in machine learning. Without probability, it would be very difficult to build accurate machine learning models.\\n\\nProbability is also used to calculate the confidence of a machine learning model's predictions. This is important because it allows us to understand how likely a model is to be correct.\\n\\nOverall, probability is a very important topic in machine learning. It is used to model uncertainty, calculate the confidence of a model's predictions, and build accurate machine learning models.\""
      ]
     },
     "execution_count": 25,
     "metadata": {},
     "output_type": "execute_result"
    }
   ],
   "source": [
    "question = \"Is probability a class topic?\"\n",
    "result = qa_chain({\"query\": question})\n",
    "result[\"result\"]"
   ]
  },
  {
   "cell_type": "code",
   "execution_count": 26,
   "metadata": {},
   "outputs": [
    {
     "data": {
      "text/plain": [
       "'The prerequisites are needed to ensure that the user has a basic understanding of the concepts that will be covered in the lecture. This will help the user to follow the lecture and to understand the material. Additionally, the prerequisites will help the user to apply the concepts that they learn in the lecture to their own work.'"
      ]
     },
     "execution_count": 26,
     "metadata": {},
     "output_type": "execute_result"
    }
   ],
   "source": [
    "question = \"why are those prerequesites needed?\"\n",
    "result = qa_chain({\"query\": question})\n",
    "result[\"result\"]"
   ]
  },
  {
   "cell_type": "markdown",
   "metadata": {},
   "source": [
    "#### This result is not a correct answer, as the current chain doesn't have any concept of state/memory and fails to preserve conversational history."
   ]
  }
 ],
 "metadata": {
  "kernelspec": {
   "display_name": "base",
   "language": "python",
   "name": "python3"
  },
  "language_info": {
   "codemirror_mode": {
    "name": "ipython",
    "version": 3
   },
   "file_extension": ".py",
   "mimetype": "text/x-python",
   "name": "python",
   "nbconvert_exporter": "python",
   "pygments_lexer": "ipython3",
   "version": "3.9.7"
  }
 },
 "nbformat": 4,
 "nbformat_minor": 2
}
