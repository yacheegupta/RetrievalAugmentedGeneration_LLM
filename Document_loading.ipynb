{
 "cells": [
  {
   "cell_type": "markdown",
   "metadata": {},
   "source": [
    "### Retrieval Augmented Generation (RAG)"
   ]
  },
  {
   "cell_type": "markdown",
   "metadata": {},
   "source": [
    "#### Loading PDF documents using LangChain into standard format"
   ]
  },
  {
   "cell_type": "code",
   "execution_count": 1,
   "metadata": {},
   "outputs": [],
   "source": [
    "from langchain.document_loaders import PyPDFLoader"
   ]
  },
  {
   "cell_type": "code",
   "execution_count": 2,
   "metadata": {},
   "outputs": [],
   "source": [
    "# loading Machine learning CS229 lecture pdf\n",
    "loader = PyPDFLoader(\"./docs/MachineLearning-Lecture01.pdf\")\n",
    "pages = loader.load()"
   ]
  },
  {
   "cell_type": "markdown",
   "metadata": {},
   "source": [
    "- Each page is a `Document` in Langchain. A `Document` contains text (`page_content`) and `metadata`."
   ]
  },
  {
   "cell_type": "code",
   "execution_count": 3,
   "metadata": {},
   "outputs": [
    {
     "data": {
      "text/plain": [
       "22"
      ]
     },
     "execution_count": 3,
     "metadata": {},
     "output_type": "execute_result"
    }
   ],
   "source": [
    "len(pages)"
   ]
  },
  {
   "cell_type": "code",
   "execution_count": 4,
   "metadata": {},
   "outputs": [
    {
     "name": "stdout",
     "output_type": "stream",
     "text": [
      "MachineLearning-Lecture01  \n",
      "Instructor (Andrew Ng):  Okay. Good morning. Welcome to CS229, the machine \n",
      "learning class. So what I wanna do today is ju st spend a little time going over the logistics \n",
      "of the class, and then we'll start to  talk a bit about machine learning.  \n",
      "By way of introduction, my name's  Andrew Ng and I'll be instru ctor for this class. And so \n",
      "I personally work in machine learning, and I' ve worked on it for about 15 years now, and \n",
      "I actually think that machine learning i\n"
     ]
    }
   ],
   "source": [
    "print(pages[0].page_content[:500])"
   ]
  },
  {
   "cell_type": "code",
   "execution_count": 5,
   "metadata": {},
   "outputs": [
    {
     "data": {
      "text/plain": [
       "{'source': './docs/MachineLearning-Lecture01.pdf', 'page': 0}"
      ]
     },
     "execution_count": 5,
     "metadata": {},
     "output_type": "execute_result"
    }
   ],
   "source": [
    "pages[0].metadata"
   ]
  },
  {
   "cell_type": "code",
   "execution_count": 6,
   "metadata": {},
   "outputs": [
    {
     "data": {
      "text/plain": [
       "162"
      ]
     },
     "execution_count": 6,
     "metadata": {},
     "output_type": "execute_result"
    }
   ],
   "source": [
    "# loading The Adventures of Sherlock Holmes by Arthur Conan Doyle\n",
    "loader = PyPDFLoader(\"./docs/Sherlock_adv.pdf\")\n",
    "pages = loader.load()\n",
    "len(pages)"
   ]
  },
  {
   "cell_type": "code",
   "execution_count": 7,
   "metadata": {},
   "outputs": [
    {
     "name": "stdout",
     "output_type": "stream",
     "text": [
      "The Adventures of Sherlock Holmes\n",
      "Arthur Conan Doyle\n"
     ]
    },
    {
     "data": {
      "text/plain": [
       "{'source': './docs/Sherlock_adv.pdf', 'page': 0}"
      ]
     },
     "execution_count": 7,
     "metadata": {},
     "output_type": "execute_result"
    }
   ],
   "source": [
    "print(pages[0].page_content[:500])\n",
    "pages[0].metadata"
   ]
  },
  {
   "cell_type": "markdown",
   "metadata": {},
   "source": [
    "#### Loading data from URL"
   ]
  },
  {
   "cell_type": "code",
   "execution_count": 8,
   "metadata": {},
   "outputs": [],
   "source": [
    "from langchain.document_loaders import WebBaseLoader"
   ]
  },
  {
   "cell_type": "code",
   "execution_count": 9,
   "metadata": {},
   "outputs": [],
   "source": [
    "data_url = \"https://openai.com/research/gpt-4\" # OpenAI GPT-4 blog URL\n",
    "loader = WebBaseLoader(data_url)"
   ]
  },
  {
   "cell_type": "code",
   "execution_count": 10,
   "metadata": {},
   "outputs": [],
   "source": [
    "url_docs = loader.load()"
   ]
  },
  {
   "cell_type": "code",
   "execution_count": 11,
   "metadata": {},
   "outputs": [
    {
     "data": {
      "text/plain": [
       "1"
      ]
     },
     "execution_count": 11,
     "metadata": {},
     "output_type": "execute_result"
    }
   ],
   "source": [
    "len(url_docs)"
   ]
  },
  {
   "cell_type": "code",
   "execution_count": 12,
   "metadata": {},
   "outputs": [
    {
     "name": "stdout",
     "output_type": "stream",
     "text": [
      "\n",
      "\n",
      "\n",
      "GPT-4\n",
      "\n",
      "\n",
      "\n",
      "\n",
      "\n",
      "\n",
      "\n",
      "\n",
      "\n",
      "\n",
      "\n",
      "\n",
      "CloseSearch Submit Skip to main contentSite NavigationResearchOverviewIndexGPT-4DALL·E 3APIOverviewData privacyPricingDocsChatGPTOverviewEnterpriseTry ChatGPTSafetyCompanyAboutBlogCareersResidencyCharterSecurityCustomer storiesSearch Navigation quick links Log inTry ChatGPTMenu Mobile Navigation CloseSite NavigationResearchAPIChatGPTSafetyCompany Quick Links Log inTry ChatGPTSearch Submit ResearchGPT-4Illustration: Ruby ChenWe’ve created GPT-4, the latest milestone in OpenAI\n"
     ]
    }
   ],
   "source": [
    "print(url_docs[0].page_content[:500])"
   ]
  },
  {
   "cell_type": "code",
   "execution_count": 13,
   "metadata": {},
   "outputs": [
    {
     "data": {
      "text/plain": [
       "{'source': 'https://openai.com/research/gpt-4',\n",
       " 'title': 'GPT-4',\n",
       " 'description': 'We’ve created GPT-4, the latest milestone in OpenAI’s effort in scaling up deep learning. GPT-4 is a large multimodal model (accepting image and text inputs, emitting text outputs) that, while less capable than humans in many real-world scenarios, exhibits human-level performance on various professional and academic benchmarks.',\n",
       " 'language': 'en-US'}"
      ]
     },
     "execution_count": 13,
     "metadata": {},
     "output_type": "execute_result"
    }
   ],
   "source": [
    "url_docs[0].metadata"
   ]
  },
  {
   "cell_type": "markdown",
   "metadata": {},
   "source": [
    "#### Extracting images as text"
   ]
  },
  {
   "cell_type": "code",
   "execution_count": 14,
   "metadata": {},
   "outputs": [],
   "source": [
    "# loading 75 pages GPT-3 research paper\n",
    "loader = PyPDFLoader(\"https://arxiv.org/pdf/2005.14165v4.pdf\", extract_images=True)\n",
    "pages = loader.load()"
   ]
  },
  {
   "cell_type": "code",
   "execution_count": 15,
   "metadata": {},
   "outputs": [
    {
     "data": {
      "text/plain": [
       "'Model Name nparamsnlayersdmodelnheadsdhead Batch Size Learning Rate\\nGPT-3 Small 125M 12 768 12 64 0.5M 6.0×10−4\\nGPT-3 Medium 350M 24 1024 16 64 0.5M 3.0×10−4\\nGPT-3 Large 760M 24 1536 16 96 0.5M 2.5×10−4\\nGPT-3 XL 1.3B 24 2048 24 128 1M 2.0×10−4\\nGPT-3 2.7B 2.7B 32 2560 32 80 1M 1.6×10−4\\nGPT-3 6.7B 6.7B 32 4096 32 128 2M 1.2×10−4\\nGPT-3 13B 13.0B 40 5140 40 128 2M 1.0×10−4\\nGPT-3 175B or “GPT-3” 175.0B 96 12288 96 128 3.2M 0.6×10−4\\nTable 2.1: Sizes, architectures, and learning hyper-parameters (batch size in tokens and learning rate) of the models\\nwhich we trained. All models were trained for a total of 300 billion tokens.\\n2.1 Model and Architectures\\nWe use the same model and architecture as GPT-2 [ RWC+19], including the modiﬁed initialization, pre-normalization,\\nand reversible tokenization described therein, with the exception that we use alternating dense and locally banded sparse\\nattention patterns in the layers of the transformer, similar to the Sparse Transformer [ CGRS19 ]. To study the dependence\\nof ML performance on model size, we train 8 different sizes of model, ranging over three orders of magnitude from 125\\nmillion parameters to 175 billion parameters, with the last being the model we call GPT-3. Previous work [ KMH+20]\\nsuggests that with enough training data, scaling of validation loss should be approximately a smooth power law as a\\nfunction of size; training models of many different sizes allows us to test this hypothesis both for validation loss and for\\ndownstream language tasks.\\nTable 2.1 shows the sizes and architectures of our 8 models. Here nparams is the total number of trainable parameters,\\nnlayers is the total number of layers, dmodel is the number of units in each bottleneck layer (we always have the\\nfeedforward layer four times the size of the bottleneck layer, dﬀ= 4∗dmodel ), anddhead is the dimension of each\\nattention head. All models use a context window of nctx= 2048 tokens. We partition the model across GPUs along\\nboth the depth and width dimension in order to minimize data-transfer between nodes. The precise architectural\\nparameters for each model are chosen based on computational efﬁciency and load-balancing in the layout of models\\nacross GPU’s. Previous work [ KMH+20] suggests that validation loss is not strongly sensitive to these parameters\\nwithin a reasonably broad range.\\n2.2 Training Dataset\\nDatasets for language models have rapidly expanded, culminating in the Common Crawl dataset2[RSR+19] constituting\\nnearly a trillion words. This size of dataset is sufﬁcient to train our largest models without ever updating on the same\\nsequence twice. However, we have found that unﬁltered or lightly ﬁltered versions of Common Crawl tend to have\\nlower quality than more curated datasets. Therefore, we took 3 steps to improve the average quality of our datasets:\\n(1) we downloaded and ﬁltered a version of CommonCrawl based on similarity to a range of high-quality reference\\ncorpora, (2) we performed fuzzy deduplication at the document level, within and across datasets, to prevent redundancy\\nand preserve the integrity of our held-out validation set as an accurate measure of overﬁtting, and (3) we also added\\nknown high-quality reference corpora to the training mix to augment CommonCrawl and increase its diversity.\\nDetails of the ﬁrst two points (processing of Common Crawl) are described in Appendix A. For the third, we added\\nseveral curated high-quality datasets, including an expanded version of the WebText dataset [ RWC+19], collected\\nby scraping links over a longer period of time, and ﬁrst described in [ KMH+20], two internet-based books corpora\\n(Books1 and Books2) and English-language Wikipedia.\\nTable 2.2 shows the ﬁnal mixture of datasets that we used in training. The CommonCrawl data was downloaded from\\n41 shards of monthly CommonCrawl covering 2016 to 2019, constituting 45TB of compressed plaintext before ﬁltering\\nand 570GB after ﬁltering, roughly equivalent to 400 billion byte-pair-encoded tokens. Note that during training, datasets\\nare not sampled in proportion to their size, but rather datasets we view as higher-quality are sampled more frequently,\\nsuch that CommonCrawl and Books2 datasets are sampled less than once during training, but the other datasets are\\nsampled 2-3 times. This essentially accepts a small amount of overﬁtting in exchange for higher quality training data.\\n2https://commoncrawl.org/the-data/\\n8'"
      ]
     },
     "execution_count": 15,
     "metadata": {},
     "output_type": "execute_result"
    }
   ],
   "source": [
    "pages[7].page_content"
   ]
  }
 ],
 "metadata": {
  "kernelspec": {
   "display_name": "base",
   "language": "python",
   "name": "python3"
  },
  "language_info": {
   "codemirror_mode": {
    "name": "ipython",
    "version": 3
   },
   "file_extension": ".py",
   "mimetype": "text/x-python",
   "name": "python",
   "nbconvert_exporter": "python",
   "pygments_lexer": "ipython3",
   "version": "3.9.7"
  }
 },
 "nbformat": 4,
 "nbformat_minor": 2
}
